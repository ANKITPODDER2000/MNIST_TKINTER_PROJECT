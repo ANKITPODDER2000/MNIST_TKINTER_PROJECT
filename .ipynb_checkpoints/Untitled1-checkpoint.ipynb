{
 "cells": [
  {
   "cell_type": "code",
   "execution_count": 4,
   "metadata": {},
   "outputs": [
    {
     "name": "stdout",
     "output_type": "stream",
     "text": [
      "Version of tensorflow is :  2.1.0\n"
     ]
    }
   ],
   "source": [
    "import tensorflow as tf\n",
    "\n",
    "import matplotlib.pyplot as plt\n",
    "import matplotlib.animation as animation\n",
    "from matplotlib import style\n",
    "style.use(\"fivethirtyeight\")\n",
    "%matplotlib inline\n",
    "import seaborn as sns\n",
    "\n",
    "import numpy as np\n",
    "\n",
    "print(\"Version of tensorflow is : \",tf.__version__)"
   ]
  },
  {
   "cell_type": "code",
   "execution_count": 5,
   "metadata": {},
   "outputs": [
    {
     "name": "stdout",
     "output_type": "stream",
     "text": [
      "Shape of train_data (60000, 28, 28, 1)\n",
      "Shape of test_data (10000, 28, 28, 1)\n",
      "Shape of train_data (60000, 28, 28, 1)\n",
      "Shape of train_label (60000, 10)\n",
      "Shape of test_data (10000, 28, 28, 1)\n",
      "Shape of test_label (10000, 10)\n"
     ]
    }
   ],
   "source": [
    "(train_data , train_label) , (test_data , test_label) = tf.keras.datasets.mnist.load_data()\n",
    "\n",
    "train_data = train_data[: , : , : , np.newaxis]\n",
    "test_data  = test_data[ : , : , : , np.newaxis]\n",
    "\n",
    "train_label = tf.keras.utils.to_categorical(train_label)\n",
    "test_label  = tf.keras.utils.to_categorical(test_label)\n",
    "\n",
    "print(\"Shape of train_data\" , train_data.shape)\n",
    "print(\"Shape of test_data\" , test_data.shape)\n",
    "\n",
    "train_data_gen = tf.keras.preprocessing.image.ImageDataGenerator(rescale = 1.0 / 255.0,\n",
    "                                                                 rotation_range = 10,\n",
    "                                                                 height_shift_range = 0.2 ,\n",
    "                                                                 width_shift_range = 0.2 ,\n",
    "                                                                 zoom_range = 0.1)\n",
    "test_data_gen = tf.keras.preprocessing.image.ImageDataGenerator(rescale = 1.0 / 255.0)\n",
    "\n",
    "print(\"Shape of train_data\" , train_data.shape)\n",
    "print(\"Shape of train_label\" , train_label.shape)\n",
    "print(\"Shape of test_data\" , test_data.shape)\n",
    "print(\"Shape of test_label\" , test_label.shape)"
   ]
  },
  {
   "cell_type": "code",
   "execution_count": 6,
   "metadata": {},
   "outputs": [],
   "source": [
    "X_train = train_data_gen.flow(train_data , y = train_label)\n",
    "X_test  = test_data_gen.flow(test_data   , y = test_label)\n",
    "\n",
    "model = tf.keras.models.Sequential([\n",
    "    tf.keras.layers.Conv2D(16 , (3 , 3),activation = \"relu\" , input_shape = (28 , 28 , 1)),\n",
    "    tf.keras.layers.MaxPool2D((2,2)),\n",
    "    tf.keras.layers.Conv2D(32 , (3 , 3),activation = \"relu\"),\n",
    "    tf.keras.layers.MaxPool2D((2,2)),\n",
    "    tf.keras.layers.Conv2D(64 , (3 , 3),activation = \"relu\"),\n",
    "    tf.keras.layers.MaxPool2D((2,2)),\n",
    "    tf.keras.layers.Flatten(),\n",
    "    tf.keras.layers.Dense(256 , activation = \"relu\"),\n",
    "    tf.keras.layers.Dense(256 , activation = \"relu\"),\n",
    "    tf.keras.layers.Dense(10 , activation = \"softmax\")\n",
    "])\n",
    "\n",
    "model.compile(optimizer = \"rmsprop\" , loss = tf.keras.losses.categorical_crossentropy , metrics = ['acc'])\n",
    "\n",
    "#model.summary()"
   ]
  },
  {
   "cell_type": "code",
   "execution_count": 7,
   "metadata": {},
   "outputs": [],
   "source": [
    "class CallBack(tf.keras.callbacks.Callback):\n",
    "    def on_epoch_end(self, epoch, logs={}):\n",
    "        if logs.get(\"val_acc\")>0.973:\n",
    "            self.model.stop_training = True"
   ]
  },
  {
   "cell_type": "code",
   "execution_count": null,
   "metadata": {},
   "outputs": [
    {
     "name": "stdout",
     "output_type": "stream",
     "text": [
      "WARNING:tensorflow:sample_weight modes were coerced from\n",
      "  ...\n",
      "    to  \n",
      "  ['...']\n",
      "WARNING:tensorflow:sample_weight modes were coerced from\n",
      "  ...\n",
      "    to  \n",
      "  ['...']\n",
      "Train for 1875 steps, validate for 312 steps\n",
      "Epoch 1/50\n",
      "1875/1875 [==============================] - 46s 25ms/step - loss: 0.6711 - acc: 0.7737 - val_loss: 0.1894 - val_acc: 0.9400\n",
      "Epoch 2/50\n",
      " 188/1875 [==>...........................] - ETA: 37s - loss: 0.3380 - acc: 0.8913"
     ]
    }
   ],
   "source": [
    "myCallback = CallBack\n",
    "his = model.fit(X_train ,\n",
    "                steps_per_epoch = X_train.n // X_train.batch_size ,\n",
    "                epochs = 50 ,\n",
    "                validation_data = X_test ,\n",
    "                validation_steps = X_test.n // X_test.batch_size ,\n",
    "                callbacks= [myCallback()] )"
   ]
  },
  {
   "cell_type": "code",
   "execution_count": null,
   "metadata": {},
   "outputs": [],
   "source": [
    "def animate(i):\n",
    "    "
   ]
  }
 ],
 "metadata": {
  "kernelspec": {
   "display_name": "Python 3",
   "language": "python",
   "name": "python3"
  },
  "language_info": {
   "codemirror_mode": {
    "name": "ipython",
    "version": 3
   },
   "file_extension": ".py",
   "mimetype": "text/x-python",
   "name": "python",
   "nbconvert_exporter": "python",
   "pygments_lexer": "ipython3",
   "version": "3.7.3"
  }
 },
 "nbformat": 4,
 "nbformat_minor": 2
}
