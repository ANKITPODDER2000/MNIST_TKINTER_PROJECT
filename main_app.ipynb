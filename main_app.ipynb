{
 "cells": [
  {
   "cell_type": "code",
   "execution_count": 1,
   "metadata": {},
   "outputs": [
    {
     "name": "stdout",
     "output_type": "stream",
     "text": [
      "Using matplotlib backend: Qt5Agg\n",
      "tf version :  2.1.0\n"
     ]
    }
   ],
   "source": [
    "import tensorflow as tf\n",
    "import matplotlib.pyplot as plt\n",
    "#import seaborn as sns\n",
    "%matplotlib auto\n",
    "import numpy as np\n",
    "from PIL import ImageTk, Image, ImageDraw\n",
    "import PIL\n",
    "from tkinter import *\n",
    "import cv2\n",
    "print(\"tf version : \",tf.__version__)"
   ]
  },
  {
   "cell_type": "code",
   "execution_count": 2,
   "metadata": {},
   "outputs": [],
   "source": [
    "def drawing():\n",
    "    model = tf.keras.models.load_model(\"./aug_digit.h5\")\n",
    "    width = 300\n",
    "    height = 300\n",
    "    center = height//2\n",
    "    white = (255, 255, 255)\n",
    "    green = (0,128,0)\n",
    "    \n",
    "    \n",
    "    def predict():\n",
    "        img=cv2.imread('image.png',0)\n",
    "        img=cv2.bitwise_not(img)\n",
    "\n",
    "        img=cv2.resize(img,(28,28))\n",
    "        img=img.reshape(1,28,28,1)\n",
    "        img=img.astype('float32')\n",
    "        img=img/255.0\n",
    "        #print(img)\n",
    "        pred=model.predict(img)\n",
    "        myLabel.config(text = \"Predicted digit : \"+str(pred[0].argmax()))\n",
    "        \n",
    "        #_ , ax = plt.subplots(1,2,figsize = (12 , 6))\n",
    "        #ax[0].imshow(img[0,:,:,0])\n",
    "        #ax[0].set_title(\"Predicted digit : \"+str(pred[0].argmax()))\n",
    "        #plt.ioff()\n",
    "        #plt.bar(list(range(0,10)) , pred[0])\n",
    "        #plt.xticks(list(range(0,10)))\n",
    "        #plt.imshow(img[0,:,:,0])\n",
    "        #plt.show()\n",
    "        \n",
    "        plt.ioff()\n",
    "        plt.bar(list(range(0,10)) , pred[0])\n",
    "        plt.xticks(list(range(0,10)))\n",
    "        plt.show()\n",
    "        \n",
    "        \n",
    "    def save():\n",
    "        filename = \"image.png\"\n",
    "        image1.save(filename)\n",
    "        predict()\n",
    "        \n",
    "\n",
    "    def paint(event):\n",
    "        x1, y1 = (event.x - 1.5), (event.y - 1.5)\n",
    "        x2, y2 = (event.x + 1.5), (event.y + 1.5)\n",
    "        cv.create_oval(x1, y1, x2, y2, fill=\"black\",width=30)\n",
    "        draw.line([x1, y1, x2, y2],fill=\"black\",width=30)\n",
    "        \n",
    "    \"\"\"\n",
    "    def clear():\n",
    "        cv.delete(\"all\")\n",
    "        myLabel.config(text = \"Predicted digit : \")\n",
    "        plt.close(1)\n",
    "    \"\"\"\n",
    "    \n",
    "    root = Tk()\n",
    "    root.title(\"MNIST Digit Prediction\")\n",
    "    myLabel = Label(root , text = \"Predicted digit : \" , font = \"Times 12 bold\")\n",
    "    myLabel.pack()\n",
    "    cv = Canvas(root, width=width, height=height, bg='white')\n",
    "    cv.pack()\n",
    "    \n",
    "    image1 = PIL.Image.new(\"RGB\", (width, height), white)\n",
    "    draw = ImageDraw.Draw(image1)\n",
    "    cv.pack(expand=YES, fill=BOTH)\n",
    "    cv.bind(\"<B1-Motion>\", paint)\n",
    "    \n",
    "    btn1 = Button(root , text = \"predict\",width=42,pady = 10 , command = save)\n",
    "    btn1.pack()\n",
    "    \n",
    "    #btn2 = Button(root , text = \"Clear\",width=42,pady = 10 , command = clear)\n",
    "    #btn2.pack()\n",
    "    \n",
    "    root.mainloop()"
   ]
  },
  {
   "cell_type": "code",
   "execution_count": null,
   "metadata": {},
   "outputs": [],
   "source": [
    "drawing()"
   ]
  },
  {
   "cell_type": "code",
   "execution_count": null,
   "metadata": {},
   "outputs": [],
   "source": []
  }
 ],
 "metadata": {
  "kernelspec": {
   "display_name": "Python 3",
   "language": "python",
   "name": "python3"
  },
  "language_info": {
   "codemirror_mode": {
    "name": "ipython",
    "version": 3
   },
   "file_extension": ".py",
   "mimetype": "text/x-python",
   "name": "python",
   "nbconvert_exporter": "python",
   "pygments_lexer": "ipython3",
   "version": "3.7.3"
  }
 },
 "nbformat": 4,
 "nbformat_minor": 2
}
